{
 "cells": [
  {
   "cell_type": "code",
   "execution_count": 1,
   "metadata": {},
   "outputs": [],
   "source": [
    "import tensorflow as tf"
   ]
  },
  {
   "cell_type": "code",
   "execution_count": 2,
   "metadata": {},
   "outputs": [
    {
     "name": "stdout",
     "output_type": "stream",
     "text": [
      "tf.Tensor(2.8963869, shape=(), dtype=float32)\n"
     ]
    }
   ],
   "source": [
    "aa = tf.exp(2.0)\n",
    "bb = tf.add(aa, 1.)\n",
    "cc = tf.sqrt(bb)\n",
    "print(cc)"
   ]
  },
  {
   "cell_type": "code",
   "execution_count": 16,
   "metadata": {},
   "outputs": [
    {
     "name": "stdout",
     "output_type": "stream",
     "text": [
      "Tensor(\"Exp:0\", shape=(), dtype=float32)\n",
      "Tensor(\"Add:0\", shape=(), dtype=float32)\n",
      "Tensor(\"Sqrt:0\", shape=(), dtype=float32)\n",
      "tf.Tensor(2.8963869, shape=(), dtype=float32)\n",
      "tf.Tensor(1.9282846, shape=(), dtype=float32)\n"
     ]
    }
   ],
   "source": [
    "@tf.function\n",
    "def func(inp):\n",
    "    aa = tf.exp(inp)\n",
    "    print(aa)\n",
    "    bb = tf.add(aa, 1.)\n",
    "    print(bb)\n",
    "    cc = tf.sqrt(bb)\n",
    "    print(cc)\n",
    "    return cc\n",
    "print(func(tf.constant(2.0, dtype=tf.float32)))\n",
    "print(func(tf.constant(1.0, dtype=tf.float32)))\n"
   ]
  },
  {
   "cell_type": "code",
   "execution_count": 7,
   "metadata": {},
   "outputs": [
    {
     "name": "stdout",
     "output_type": "stream",
     "text": [
      "tf.Tensor(7.389056, shape=(), dtype=float32)\n",
      "tf.Tensor(8.389056, shape=(), dtype=float32)\n",
      "tf.Tensor(2.8963869, shape=(), dtype=float32)\n",
      "tf.Tensor(2.8963869, shape=(), dtype=float32)\n"
     ]
    }
   ],
   "source": [
    "def func(inp):\n",
    "    aa = tf.exp(inp)\n",
    "    print(aa)\n",
    "    bb = tf.add(aa, 1.)\n",
    "    print(bb)\n",
    "    cc = tf.sqrt(bb)\n",
    "    print(cc)\n",
    "    return cc\n",
    "print(func(2.0))"
   ]
  },
  {
   "cell_type": "code",
   "execution_count": null,
   "metadata": {},
   "outputs": [],
   "source": [
    "with tf.Graph().as_default():\n",
    "    aa = tf.exp(2.0)\n",
    "    print(aa)\n",
    "    bb = tf.add(aa, 1.)\n",
    "    print(bb)\n",
    "    cc = tf.sqrt(bb)\n",
    "    print(cc)"
   ]
  },
  {
   "cell_type": "code",
   "execution_count": 5,
   "metadata": {},
   "outputs": [
    {
     "name": "stdout",
     "output_type": "stream",
     "text": [
      "tf.Tensor(1.2755646, shape=(), dtype=float32)\n"
     ]
    }
   ],
   "source": [
    "#take gradient of a variable\n",
    "inp = tf.Variable(2.0, dtype=tf.float32)\n",
    "def func(inp):\n",
    "    aa = tf.exp(inp)\n",
    "    bb = tf.add(aa, 1.)\n",
    "    cc = tf.sqrt(bb)\n",
    "    return cc\n",
    "with tf.GradientTape() as tape:\n",
    "    out = func(inp)\n",
    "print(tape.gradient(out, inp))"
   ]
  },
  {
   "cell_type": "code",
   "execution_count": 20,
   "metadata": {},
   "outputs": [
    {
     "name": "stdout",
     "output_type": "stream",
     "text": [
      "tf.Tensor(1.2755646, shape=(), dtype=float32)\n"
     ]
    }
   ],
   "source": [
    "# take gradient of a non-variable\n",
    "def func(inp):\n",
    "    aa = tf.exp(inp)\n",
    "    bb = tf.add(aa, 1.)\n",
    "    cc = tf.sqrt(bb)\n",
    "    return cc\n",
    "with tf.GradientTape() as tape:\n",
    "    inp = tf.constant(2.0, dtype=tf.float32)\n",
    "    tape.watch(inp)\n",
    "    out = func(inp)\n",
    "    print(tape.gradient(out, inp))"
   ]
  },
  {
   "cell_type": "code",
   "execution_count": 18,
   "metadata": {},
   "outputs": [
    {
     "name": "stdout",
     "output_type": "stream",
     "text": [
      "<tf.Variable 'Variable:0' shape=() dtype=float32, numpy=1.0> <tf.Variable 'Variable:0' shape=() dtype=float32, numpy=2.0>\n",
      "None\n"
     ]
    }
   ],
   "source": [
    "# @tf.function\n",
    "def func():\n",
    "    aa = tf.Variable(1.0, dtype=tf.float32)\n",
    "    bb = tf.Variable(2.0, dtype=tf.float32)\n",
    "    print(aa, bb)\n",
    "print(func())"
   ]
  },
  {
   "cell_type": "code",
   "execution_count": 10,
   "metadata": {},
   "outputs": [
    {
     "name": "stdout",
     "output_type": "stream",
     "text": [
      "<tf.Variable 'Variable:0' shape=() dtype=float32, numpy=2.0>\n",
      "<tf.Variable 'Variable:0' shape=() dtype=float32, numpy=3.0>\n",
      "<tf.Variable 'Variable:0' shape=() dtype=float32, numpy=5.0>\n",
      "<tf.Variable 'Variable:0' shape=() dtype=float32, numpy=4.0>\n"
     ]
    }
   ],
   "source": [
    "aa = tf.Variable(2.0)\n",
    "print(aa)\n",
    "aa.assign(3.0)\n",
    "print(aa)\n",
    "aa.assign_add(2.0)\n",
    "print(aa)\n",
    "aa.assign_sub(1.0)\n",
    "print(aa)"
   ]
  },
  {
   "cell_type": "code",
   "execution_count": null,
   "metadata": {},
   "outputs": [],
   "source": [
    "@tf.function\n",
    "def func(inp):\n",
    "    aa = tf.exp(inp)\n",
    "    bb = tf.add(aa, 1.)\n",
    "    cc = tf.sqrt(bb)\n",
    "    return cc"
   ]
  }
 ],
 "metadata": {
  "kernelspec": {
   "display_name": "Python 3",
   "language": "python",
   "name": "python3"
  },
  "language_info": {
   "codemirror_mode": {
    "name": "ipython",
    "version": 3
   },
   "file_extension": ".py",
   "mimetype": "text/x-python",
   "name": "python",
   "nbconvert_exporter": "python",
   "pygments_lexer": "ipython3",
   "version": "3.7.0"
  }
 },
 "nbformat": 4,
 "nbformat_minor": 2
}
