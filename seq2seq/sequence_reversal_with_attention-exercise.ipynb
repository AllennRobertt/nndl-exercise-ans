{
 "cells": [
  {
   "cell_type": "markdown",
   "metadata": {},
   "source": [
    "# 序列逆置 （加注意力的seq2seq）\n",
    "使用attentive sequence to sequence 模型将一个字符串序列逆置。例如 `OIMESIQFIQ` 逆置成 `QIFQISEMIO`(下图来自网络，是一个加attentino的sequence to sequence 模型示意图)\n",
    "![attentive seq2seq](./seq2seq-attn.jpg)"
   ]
  },
  {
   "cell_type": "markdown",
   "metadata": {},
   "source": [
    "\n",
    "# Decoder:\n",
    "$$h_i = \\sigma(h_{i-1}\\mathbf{W}_{h2h} + e_i\\mathbf{W}_{e2h})$$\n",
    "\n",
    "$$y_i = argmax(softmax([h_i; c_i] \\mathbf{W}_{cls}))$$\n",
    "\n",
    "$$c_i = \\sum_j{a_j\\cdot H_j}$$\n",
    "\n",
    "$H_j$ 来自encoder中第$j$个位置的上下文表示"
   ]
  },
  {
   "cell_type": "code",
   "execution_count": 1,
   "metadata": {},
   "outputs": [],
   "source": [
    "import numpy as np\n",
    "import tensorflow as tf\n",
    "import collections\n",
    "from tensorflow import keras\n",
    "from tensorflow.keras import layers\n",
    "from tensorflow.keras import layers, optimizers, datasets\n",
    "import os,sys,tqdm"
   ]
  },
  {
   "cell_type": "markdown",
   "metadata": {},
   "source": [
    "## 玩具序列数据生成\n",
    "生成只包含[A-Z]的字符串，并且将encoder输入以及decoder输入以及decoder输出准备好（转成index）"
   ]
  },
  {
   "cell_type": "code",
   "execution_count": 2,
   "metadata": {},
   "outputs": [
    {
     "name": "stdout",
     "output_type": "stream",
     "text": [
      "(['CMULECABXJ', 'LPZJZKUVJC'], <tf.Tensor: id=0, shape=(2, 10), dtype=int32, numpy=\n",
      "array([[ 3, 13, 21, 12,  5,  3,  1,  2, 24, 10],\n",
      "       [12, 16, 26, 10, 26, 11, 21, 22, 10,  3]], dtype=int32)>, <tf.Tensor: id=1, shape=(2, 10), dtype=int32, numpy=\n",
      "array([[ 0, 10, 24,  2,  1,  3,  5, 12, 21, 13],\n",
      "       [ 0,  3, 10, 22, 21, 11, 26, 10, 26, 16]], dtype=int32)>, <tf.Tensor: id=2, shape=(2, 10), dtype=int32, numpy=\n",
      "array([[10, 24,  2,  1,  3,  5, 12, 21, 13,  3],\n",
      "       [ 3, 10, 22, 21, 11, 26, 10, 26, 16, 12]], dtype=int32)>)\n"
     ]
    }
   ],
   "source": [
    "import random\n",
    "import string\n",
    "\n",
    "def randomString(stringLength):\n",
    "    \"\"\"Generate a random string with the combination of lowercase and uppercase letters \"\"\"\n",
    "\n",
    "    letters = string.ascii_uppercase\n",
    "    return ''.join(random.choice(letters) for i in range(stringLength))\n",
    "\n",
    "def get_batch(batch_size, length):\n",
    "    batched_examples = [randomString(length) for i in range(batch_size)]\n",
    "    enc_x = [[ord(ch)-ord('A')+1 for ch in list(exp)] for exp in batched_examples]\n",
    "    y = [[o for o in reversed(e_idx)] for e_idx in enc_x]\n",
    "    dec_x = [[0]+e_idx[:-1] for e_idx in y]\n",
    "    return (batched_examples, tf.constant(enc_x, dtype=tf.int32), \n",
    "            tf.constant(dec_x, dtype=tf.int32), tf.constant(y, dtype=tf.int32))\n",
    "print(get_batch(2, 10))"
   ]
  },
  {
   "cell_type": "markdown",
   "metadata": {},
   "source": [
    "# 建立sequence to sequence 模型\n",
    "\n",
    "完成两空，模型搭建以及单步解码逻辑"
   ]
  },
  {
   "cell_type": "code",
   "execution_count": 3,
   "metadata": {},
   "outputs": [],
   "source": [
    "class mySeq2SeqModel(keras.Model):\n",
    "    def __init__(self):\n",
    "        super(mySeq2SeqModel, self).__init__()\n",
    "        self.v_sz=27\n",
    "        self.hidden = 128\n",
    "        self.embed_layer = tf.keras.layers.Embedding(self.v_sz, 64, \n",
    "                                                    batch_input_shape=[None, None])\n",
    "        \n",
    "        self.encoder_cell = tf.keras.layers.SimpleRNNCell(self.hidden)\n",
    "        self.decoder_cell = tf.keras.layers.SimpleRNNCell(self.hidden)\n",
    "        \n",
    "        self.encoder = tf.keras.layers.RNN(self.encoder_cell, \n",
    "                                           return_sequences=True, return_state=True)\n",
    "        self.decoder = tf.keras.layers.RNN(self.decoder_cell, \n",
    "                                           return_sequences=True, return_state=True)\n",
    "        self.dense_attn = tf.keras.layers.Dense(self.hidden)\n",
    "        self.dense = tf.keras.layers.Dense(self.v_sz)\n",
    "        \n",
    "        \n",
    "    @tf.function\n",
    "    def call(self, enc_ids, dec_ids):\n",
    "        '''\n",
    "        # shape(end_ids) = [b_sz, e_t,]\n",
    "        '''\n",
    "        enc_emb = self.embed_layer(enc_ids)\n",
    "        dec_emb = self.embed_layer(dec_ids)\n",
    "        enc_out, enc_state = self.encoder(enc_emb)\n",
    "        dec_out, dec_state = self.decoder(dec_emb,   # shape(b_sz, time_step, h_sz)\n",
    "                                          initial_state=enc_state)#shape\n",
    "        enc_t = self.dense_attn(enc_out) #[b_sz, e_t, h_sz]\n",
    "        score = tf.matmul(enc_t, dec_out, transpose_b=True) #[b_sz, e_t, d_t]\n",
    "        A = tf.nn.softmax(score, axis=1) #[b_sz, e_t, d_t]\n",
    "        #shape(enc_out) = [b_sz, e_t, h_sz], shape(A)=[b_sz, e_t, d_t]\n",
    "        ctx = tf.matmul(A, enc_out, transpose_a=True) #[b_sz, d_t, h_sz]\n",
    "        out = tf.concat([ctx, dec_out], axis=-1) #[b_sa, d_t, 2*h_sz]\n",
    "        logits = self.dense(out)\n",
    "        \n",
    "        return logits\n",
    "    \n",
    "    \n",
    "    @tf.function\n",
    "    def encode(self, enc_ids):\n",
    "        enc_emb = self.embed_layer(enc_ids) # shape(b_sz, len, emb_sz)\n",
    "        enc_out, enc_state = self.encoder(enc_emb)\n",
    "        return enc_out, [enc_out[:, -1, :], enc_state]\n",
    "    \n",
    "    def get_next_token(self, x, state, enc_out):\n",
    "        '''\n",
    "        shape(x) = [b_sz,] \n",
    "        '''\n",
    "        inp_emb = self.embed_layer(x) #shape(b_sz, emb_sz)\n",
    "        h, state = self.decoder_cell.call(inp_emb, state) #[b_sz, h_sz]\n",
    "        h_exp = tf.expand_dims(h, axis=1) # [b_sz, 1, h_sz]\n",
    "        enc_t = self.dense_attn(enc_out) #[b_sz, e_t, h_sz]\n",
    "        score = tf.matmul(enc_t, h_exp, transpose_b=True) #[b_sz, e_t, 1]\n",
    "        A = tf.nn.softmax(score, axis=1) #[b_sz, e_t, 1]\n",
    "        #shape(enc_out) = [b_sz, e_t, h_sz], shape(A)=[b_sz, e_t, 1]\n",
    "        ctx = tf.matmul(A, enc_out, transpose_a=True) #[b_sz, 1, h_sz]\n",
    "        out = tf.concat([ctx, h_exp], axis=-1) #[b_sa, 1, 2*h_sz]\n",
    "        logits = self.dense(out) #[b_sz, 1, v_sz]\n",
    "        logits = tf.squeeze(logits, axis=1) #[b_sz, v_sz]\n",
    "        out = tf.argmax(logits, axis=-1)\n",
    "        '''\n",
    "        todo\n",
    "        参考sequence_reversal-exercise, 自己构建单步解码逻辑'''\n",
    "        return out, state"
   ]
  },
  {
   "cell_type": "markdown",
   "metadata": {},
   "source": [
    "# Loss函数以及训练逻辑"
   ]
  },
  {
   "cell_type": "code",
   "execution_count": 7,
   "metadata": {},
   "outputs": [],
   "source": [
    "@tf.function\n",
    "def compute_loss(logits, labels):\n",
    "    losses = tf.nn.sparse_softmax_cross_entropy_with_logits(\n",
    "            logits=logits, labels=labels)\n",
    "    losses = tf.reduce_mean(losses)\n",
    "    return losses\n",
    "\n",
    "@tf.function\n",
    "def train_one_step(model, optimizer, enc_x, dec_x, y):\n",
    "    with tf.GradientTape() as tape:\n",
    "        logits = model(enc_x, dec_x)\n",
    "        loss = compute_loss(logits, y)\n",
    "\n",
    "    # compute gradient\n",
    "    grads = tape.gradient(loss, model.trainable_variables)\n",
    "    optimizer.apply_gradients(zip(grads, model.trainable_variables))\n",
    "    return loss\n",
    "\n",
    "def train(model, optimizer, seqlen):\n",
    "    loss = 0.0\n",
    "    accuracy = 0.0\n",
    "    for step in range(2000):\n",
    "        batched_examples, enc_x, dec_x, y = get_batch(32, seqlen)\n",
    "        loss = train_one_step(model, optimizer, enc_x, dec_x, y)\n",
    "        if step % 500 == 0:\n",
    "            print('step', step, ': loss', loss.numpy())\n",
    "    return loss"
   ]
  },
  {
   "cell_type": "markdown",
   "metadata": {},
   "source": [
    "# 训练迭代"
   ]
  },
  {
   "cell_type": "code",
   "execution_count": 8,
   "metadata": {},
   "outputs": [
    {
     "name": "stdout",
     "output_type": "stream",
     "text": [
      "step 0 : loss 3.3034484\n",
      "step 500 : loss 1.3339667\n",
      "step 1000 : loss 0.20600119\n",
      "step 1500 : loss 0.077418566\n"
     ]
    },
    {
     "data": {
      "text/plain": [
       "<tf.Tensor: id=18676, shape=(), dtype=float32, numpy=0.037446834>"
      ]
     },
     "execution_count": 8,
     "metadata": {},
     "output_type": "execute_result"
    }
   ],
   "source": [
    "optimizer = optimizers.Adam(0.0005)\n",
    "model = mySeq2SeqModel()\n",
    "train(model, optimizer, seqlen=20)"
   ]
  },
  {
   "cell_type": "markdown",
   "metadata": {},
   "source": [
    "# 测试模型逆置能力\n",
    "首先要先对输入的一个字符串进行encode，然后在用decoder解码出逆置的字符串\n",
    "\n",
    "测试阶段跟训练阶段的区别在于，在训练的时候decoder的输入是给定的，而在预测的时候我们需要一步步生成下一步的decoder的输入"
   ]
  },
  {
   "cell_type": "code",
   "execution_count": 12,
   "metadata": {},
   "outputs": [
    {
     "name": "stdout",
     "output_type": "stream",
     "text": [
      "[True, True, True, True, False, True, True, True, True, True, True, False, False, True, True, True, True, True, True, True, True, False, True, True, True, False, True, True, True, True, False, True]\n",
      "[('XHHZAOVGXAHZAKSFJZQG', 'GQZJFSKAZHAXGVOAZHHX'), ('GDSOPFAKYYYECCCWGCKG', 'GKCGWCCCEYYYKAFPOSDG'), ('SWAPWJYJYAWMSZDSRYSV', 'VSYRSDZSMWAYJYJWPAWT'), ('GWGYBXCIATOQRQFKDJVD', 'DVJDKFQRQOTAICXBYGWG'), ('XKPKOYHVLXZAZGHNJTAO', 'OATJNHGZAZXLVHYOKPKX'), ('MILYNEDDWZJVUDMDIXJT', 'TJXIDMDUVJZWDDENYLIM'), ('SAPGKIHFETSNJFWCBIDH', 'HDIBCWFJNSTEFHIKGPAS'), ('JQOCKMBFPWLTODLZQPKH', 'HKPQZLDOTLWPFBMKCOQJ'), ('QIIQYPYIWWLYMXOEPIBF', 'FBIPEOXMYLWWIYPYQIIQ'), ('VOEAIYKYIPOMESIBMUOU', 'UOUMBISEMOPIYKYIAEOV'), ('BPXNEICAJCHMSVXOUYTQ', 'QTYUOXVSMHCJACIENXPB'), ('DFKGDZVAJNQXMFQSPNVB', 'BVNPSQFMXQNJAVZDGKFD'), ('XDVFNAUYIYQQRPVYVXXR', 'RXXVYVPRQQYIYUANFVDX'), ('YELFAYUSZQARDLXMLNYK', 'KYNLMXLDRAQZSUYAFLEY'), ('VZYTCUKPWTXJEZGJINNS', 'SNNIJGZEJXTWPKUCTYZV'), ('HDSSAPVDMFEQMXRELZJI', 'IJZLERXMQEFMDVPASSDH'), ('CGQDYKUOUHHDOSSGDYNE', 'ENYDGSSODHHUOUKYDQGC'), ('WBPZILHOTBIASVTCIHBI', 'IBHICTVSAIBTOHLIZPRW'), ('GXHUCHGXRTHKDEEDYBGK', 'KGBYDEEDKHTRXGHCUHXG'), ('IUWBLQLAJYZNIWGEBANN', 'NNABEGWINZYJALQLBWUI'), ('ZAAYXKWNLRUAFFHLUOGR', 'RGOULHFFAURLNWKXYAAZ'), ('LDHPHEPZQGJRLARUKXTR', 'RTXKURALRJGQZPEHPHDL'), ('DNDYUJXDPXAMLYQAOHFM', 'MFHOAQYLMAXPDXJUYDND'), ('OPTHWDUHMAHNZYCZALUK', 'KULAZCYZNHAMHUDWHTPO'), ('DZQRTGECCOAYBZBXLMIT', 'TIMLXBZBYAOCCEGTRQZD'), ('KNVKTLDOBXPWPVKNVGQK', 'KQGVNKVPWPXBODLTKVHT'), ('ZIFVSVEEXKKDMGYJBKZG', 'GZKBJYGMDKKXEEVSVFIZ'), ('KNQTPOXAMMAVFCAWXWCQ', 'QCWXWACFVAMMAXOPTQNK'), ('KNRFSVCWVBWECOWIIKTK', 'KTKIIWOCEWBVWCVSFRNP'), ('NQDFLVAFFFAREBOWGTSI', 'ISTGWOBERAFFFAVLFDQN'), ('DUBFYEWDQVCKLGWUUCNF', 'FNCUUWGLKCVQDWEYFBUD'), ('XXTNFTLHZMJPZHXPEASO', 'OSAEPXHZPJMZHLTFNTXX')]\n"
     ]
    }
   ],
   "source": [
    "def sequence_reversal():\n",
    "    def decode(init_state, steps, enc_out):\n",
    "        b_sz = tf.shape(init_state[0])[0]\n",
    "        cur_token = tf.zeros(shape=[b_sz], dtype=tf.int32)\n",
    "        state = init_state\n",
    "        collect = []\n",
    "        for i in range(steps):\n",
    "            cur_token, state = model.get_next_token(cur_token, state, enc_out)\n",
    "            collect.append(tf.expand_dims(cur_token, axis=-1))\n",
    "        out = tf.concat(collect, axis=-1).numpy()\n",
    "        out = [''.join([chr(idx+ord('A')-1) for idx in exp]) for exp in out]\n",
    "        return out\n",
    "    \n",
    "    batched_examples, enc_x, _, _ = get_batch(32, 20)\n",
    "    enc_out, state = model.encode(enc_x)\n",
    "    return decode(state, enc_x.get_shape()[-1], enc_out), batched_examples\n",
    "\n",
    "def is_reverse(seq, rev_seq):\n",
    "    rev_seq_rev = ''.join([i for i in reversed(list(rev_seq))])\n",
    "    if seq == rev_seq_rev:\n",
    "        return True\n",
    "    else:\n",
    "        return False\n",
    "print([is_reverse(*item) for item in list(zip(*sequence_reversal()))])\n",
    "print(list(zip(*sequence_reversal())))"
   ]
  },
  {
   "cell_type": "code",
   "execution_count": null,
   "metadata": {},
   "outputs": [],
   "source": []
  },
  {
   "cell_type": "code",
   "execution_count": null,
   "metadata": {},
   "outputs": [],
   "source": []
  }
 ],
 "metadata": {
  "kernelspec": {
   "display_name": "Python 3",
   "language": "python",
   "name": "python3"
  },
  "language_info": {
   "codemirror_mode": {
    "name": "ipython",
    "version": 3
   },
   "file_extension": ".py",
   "mimetype": "text/x-python",
   "name": "python",
   "nbconvert_exporter": "python",
   "pygments_lexer": "ipython3",
   "version": "3.7.0"
  }
 },
 "nbformat": 4,
 "nbformat_minor": 2
}
